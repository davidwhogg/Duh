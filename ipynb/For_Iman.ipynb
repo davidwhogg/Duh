{
 "cells": [
  {
   "cell_type": "code",
   "execution_count": null,
   "id": "acee134f-842e-489e-976e-a49cf525acfc",
   "metadata": {},
   "outputs": [],
   "source": [
    "import sys\n",
    "import numpy as np\n",
    "from matplotlib import pyplot as plt\n",
    "from astropy.io import fits"
   ]
  },
  {
   "cell_type": "code",
   "execution_count": null,
   "id": "cf66fb9a-f8ba-4416-80a5-3dee80d30a0e",
   "metadata": {},
   "outputs": [],
   "source": [
    "sys.path.insert(0, '../py/')\n",
    "import duh"
   ]
  },
  {
   "cell_type": "code",
   "execution_count": null,
   "id": "1e2cf7ed-7bcd-4bb1-9ffb-045e0b4d172a",
   "metadata": {},
   "outputs": [],
   "source": [
    "yc, xc, hw = 3293, 2024, 50\n",
    "im1 = fits.open('../data/j8fw01010_drc.fits.gz')[1].data[xc-hw:xc+hw,yc-hw:yc+hw]\n",
    "im2 = fits.open('../data/j8fw03010_drc.fits.gz')[1].data[xc-hw:xc+hw,yc-hw:yc+hw]"
   ]
  },
  {
   "cell_type": "code",
   "execution_count": null,
   "id": "0623150f-2059-4db6-8851-3e9834183b96",
   "metadata": {},
   "outputs": [],
   "source": [
    "for im in [im1, im2]:\n",
    "    a, b = np.nanpercentile(im, [2.5, 97.5])\n",
    "    plt.imshow(im, cmap='gray', vmin=a, vmax=b)\n",
    "    plt.show()"
   ]
  },
  {
   "cell_type": "code",
   "execution_count": null,
   "id": "b6ca2758-a6b4-40ac-a4ab-e65a6528d98d",
   "metadata": {},
   "outputs": [],
   "source": [
    "duh.synthesize_and_plot(im1, im2, \"foo.png\")"
   ]
  },
  {
   "cell_type": "code",
   "execution_count": null,
   "id": "dbbc03f4-e6bc-40c2-964c-06f6ac645767",
   "metadata": {},
   "outputs": [],
   "source": []
  }
 ],
 "metadata": {
  "kernelspec": {
   "display_name": "Python 3 (ipykernel)",
   "language": "python",
   "name": "python3"
  },
  "language_info": {
   "codemirror_mode": {
    "name": "ipython",
    "version": 3
   },
   "file_extension": ".py",
   "mimetype": "text/x-python",
   "name": "python",
   "nbconvert_exporter": "python",
   "pygments_lexer": "ipython3",
   "version": "3.9.6"
  }
 },
 "nbformat": 4,
 "nbformat_minor": 5
}
